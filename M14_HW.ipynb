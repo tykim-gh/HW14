{
 "cells": [
  {
   "cell_type": "markdown",
   "id": "bbea800c-241d-42b4-a744-ecaffe13959e",
   "metadata": {},
   "source": [
    "# Metadata\n",
    "\n",
    "```yaml\n",
    "Course:  DS 5100\n",
    "Module:  14 Python Packages\n",
    "Topic:   HW Package Booklover\n",
    "Author:  R.C. Alvarado\n",
    "Date:    11 July 2022\n",
    "```"
   ]
  },
  {
   "cell_type": "markdown",
   "id": "31c46810-4227-4657-8b67-29c43de618ea",
   "metadata": {},
   "source": [
    "# Student Metadata\n",
    "\n",
    "* Name: Tae Yoon Kim\n",
    "* NetID: rbr6vj"
   ]
  },
  {
   "cell_type": "markdown",
   "id": "1baf08dc-35fe-44f1-bc26-7e1130ee993e",
   "metadata": {},
   "source": [
    "# Instructions\n",
    "\n",
    "Follow the recipe we used in class to package the code you wrote for `HW09` -- `booklover.py` and `booklover_test.py`.\n",
    "\n",
    "Here is the recipe:\n",
    "* Create a new git repo for your package.\n",
    "* Create and edit the required files and directories for your package and move the booklover modules there.\n",
    "* Stage, commit, and push all the files you've created.\n",
    "* Install your package with pip.\n",
    "* Outside of your package dir, write a script to test your method.\n",
    "\n",
    "Put this notebook in your repo. This will allow you to execute bash commands and capture the outpunt directly in the notebook.\n",
    "\n",
    "**TOTAL: 8 POINTS**"
   ]
  },
  {
   "cell_type": "markdown",
   "id": "6e39ba79-49ee-41e8-9e49-23d9d6bac2e0",
   "metadata": {
    "tags": []
   },
   "source": [
    "# Q1\n",
    "\n",
    "(5 points)\n",
    "\n",
    "Show the directory structure of your repo by running this command from the root of your repo:"
   ]
  },
  {
   "cell_type": "code",
   "execution_count": 1,
   "id": "7e6c6607",
   "metadata": {},
   "outputs": [
    {
     "name": "stderr",
     "output_type": "stream",
     "text": [
      "'ls' is not recognized as an internal or external command,\n",
      "operable program or batch file.\n"
     ]
    }
   ],
   "source": [
    "!ls -lR"
   ]
  },
  {
   "cell_type": "markdown",
   "id": "6b6f288b-05aa-441b-8c73-84b50b3b6844",
   "metadata": {},
   "source": [
    "# Q2\n",
    "\n",
    "(1 point)\n",
    "\n",
    "Put the URL of your GitHub repo here. Just paste it into a Markdown cell."
   ]
  },
  {
   "cell_type": "markdown",
   "id": "4d09d889-6104-4f20-b31c-2d8a72b17693",
   "metadata": {},
   "source": [
    "URL: "
   ]
  },
  {
   "cell_type": "markdown",
   "id": "f989dcd1-b1d2-4eb9-8ef6-8ca2d8495260",
   "metadata": {
    "lines_to_next_cell": 0
   },
   "source": [
    "# Q3\n",
    "\n",
    "(1 point)\n",
    "\n",
    "Show the results of installing your package.\n",
    "\n",
    "```bash\n",
    "!pip install -e .\n",
    "```"
   ]
  },
  {
   "cell_type": "markdown",
   "id": "5b1a642e-74f0-43ff-97a3-9ddc7553978e",
   "metadata": {},
   "source": [
    "# Q4\n",
    "\n",
    "(1 point)\n",
    "\n",
    "Create a file outside your repo (one level up) to test your package.\n",
    "\n",
    "Import the package and run it. Specifically, create a BookLover object, add a book, and then print number books read.\n",
    "\n",
    "Show the output of running the file below, using a command like the following:\n",
    "\n",
    "```bash\n",
    "!python ../book_lover_demo.py\n",
    "```"
   ]
  },
  {
   "cell_type": "code",
   "execution_count": null,
   "id": "5924fca8-6483-4f2b-a33f-6550d1726d6e",
   "metadata": {},
   "outputs": [],
   "source": []
  }
 ],
 "metadata": {
  "jupytext": {
   "cell_metadata_filter": "-all",
   "main_language": "bash",
   "notebook_metadata_filter": "-all"
  },
  "kernelspec": {
   "display_name": "Python 3 (ipykernel)",
   "language": "python",
   "name": "python3"
  },
  "language_info": {
   "codemirror_mode": {
    "name": "ipython",
    "version": 3
   },
   "file_extension": ".py",
   "mimetype": "text/x-python",
   "name": "python",
   "nbconvert_exporter": "python",
   "pygments_lexer": "ipython3",
   "version": "3.9.12"
  },
  "widgets": {
   "application/vnd.jupyter.widget-state+json": {
    "state": {},
    "version_major": 2,
    "version_minor": 0
   }
  }
 },
 "nbformat": 4,
 "nbformat_minor": 5
}
